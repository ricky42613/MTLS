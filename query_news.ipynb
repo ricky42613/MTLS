{
 "cells": [
  {
   "cell_type": "code",
   "execution_count": 8,
   "metadata": {},
   "outputs": [],
   "source": [
    "from sentence_seg import SentenceSegmentor"
   ]
  },
  {
   "cell_type": "code",
   "execution_count": 9,
   "metadata": {},
   "outputs": [],
   "source": [
    "SentSeg = SentenceSegmentor()"
   ]
  },
  {
   "cell_type": "code",
   "execution_count": 10,
   "metadata": {},
   "outputs": [],
   "source": [
    "import pandas as pd\n",
    "data = pd.read_csv('politics_news.csv')\n",
    "data = data[~data['content_publish_time'].str.contains(',')]\n",
    "data = data[data['content_publish_time'].str.contains('16')]"
   ]
  },
  {
   "cell_type": "code",
   "execution_count": 11,
   "metadata": {},
   "outputs": [],
   "source": [
    "data_start = min(data['content_publish_time'])\n",
    "data_end = max(data['content_publish_time'])\n",
    "# for idx, item in data.iterrows():\n",
    "#     print(item.content_publish_time)"
   ]
  },
  {
   "cell_type": "code",
   "execution_count": 12,
   "metadata": {},
   "outputs": [
    {
     "data": {
      "text/plain": [
       "datetime.datetime(2022, 1, 1, 0, 57, 11)"
      ]
     },
     "execution_count": 12,
     "metadata": {},
     "output_type": "execute_result"
    }
   ],
   "source": [
    "from datetime import datetime\n",
    "datetime.fromtimestamp(int(float(data_start)/1000))"
   ]
  },
  {
   "cell_type": "code",
   "execution_count": 13,
   "metadata": {},
   "outputs": [
    {
     "data": {
      "text/plain": [
       "datetime.datetime(2022, 8, 22, 9, 19, 45)"
      ]
     },
     "execution_count": 13,
     "metadata": {},
     "output_type": "execute_result"
    }
   ],
   "source": [
    "datetime.fromtimestamp(int(float(data_end)/1000))"
   ]
  },
  {
   "cell_type": "code",
   "execution_count": 14,
   "metadata": {},
   "outputs": [],
   "source": [
    "import re\n",
    "title = []\n",
    "uuid = []\n",
    "sentence = []\n",
    "sidx = []\n",
    "timestamp = []\n",
    "bodys = []\n",
    "re_compile = '(林智堅).*?(抄襲)'\n",
    "for idx, item in data.iterrows():\n",
    "    body = item['body'].replace('&nbsp;', ' ')   \n",
    "    if len(re.findall(re_compile, body[:30])) > 0:\n",
    "        # (圖/\n",
    "        sents = SentSeg.cut_sentence(body)\n",
    "        sents = list(filter(lambda x: len(re.findall('報導。$',x.strip())) == 0, sents))\n",
    "        sents = list(filter(lambda x: len(re.findall('報導】。$',x.strip())) == 0, sents))\n",
    "        sents = list(filter(lambda x: len(re.findall('^&nbsp;',x.strip())) == 0, sents))\n",
    "        # sents = list(filter(lambda x: len(re.findall('作者[/',x)) == 0, sents))\n",
    "        sents = list(filter(lambda x: len(re.findall('^文／',x.strip())) == 0, sents))\n",
    "        sents = list(filter(lambda x: len(re.findall('翻攝',x.strip())) == 0, sents))\n",
    "        sents = list(filter(lambda x: len(re.findall('圖片來源／',x.strip())) == 0, sents))\n",
    "        sents = list(filter(lambda x: len(re.findall('\\(圖/',x.strip())) == 0, sents))\n",
    "        sents = [re.sub('\\[.*?\\]', '',  s) for s in sents]\n",
    "        sents = [re.sub('\\（.*?報導\\）', '', s) for s in sents]\n",
    "        sents = [re.sub('\\【.*?報導\\】', '', s) for s in sents]\n",
    "        sents = [re.sub('\\[.*?\\]', '',  s) for s in sents]\n",
    "        sents = [re.sub('\\（.*?\\）', '',  s) for s in sents]\n",
    "        sents = [re.sub('\\（中央社.*?\\）', '',  s) for s in sents]\n",
    "        sents = [re.sub('^更多.*?報導$', '',  s) for s in sents]\n",
    "        sents = [s.strip() for s in sents if len(s.strip()) > 5]\n",
    "        first_sent = ''\n",
    "        for idx, s in enumerate(sents):\n",
    "            first_sent += s\n",
    "            if len(first_sent) > 20:\n",
    "                break\n",
    "        #     sentence.append(s)\n",
    "        #     sidx.append(idx)\n",
    "        sentence.append(first_sent)\n",
    "        bodys.append(body)\n",
    "        title.append(item['title'])\n",
    "        uuid.append(item['uuid'])\n",
    "        timestamp.append(item['content_publish_time'])\n",
    "\n",
    "df = pd.DataFrame(uuid, columns=['uuid'])\n",
    "df['title'] = title\n",
    "# df['sidx'] = sidx\n",
    "df['sentence'] = sentence\n",
    "df['timestamp'] = timestamp\n",
    "df['body'] = bodys\n",
    "df.to_csv('林智堅抄襲.csv')"
   ]
  },
  {
   "cell_type": "code",
   "execution_count": null,
   "metadata": {},
   "outputs": [],
   "source": []
  }
 ],
 "metadata": {
  "kernelspec": {
   "display_name": "Python 3.9.12 ('base')",
   "language": "python",
   "name": "python3"
  },
  "language_info": {
   "codemirror_mode": {
    "name": "ipython",
    "version": 3
   },
   "file_extension": ".py",
   "mimetype": "text/x-python",
   "name": "python",
   "nbconvert_exporter": "python",
   "pygments_lexer": "ipython3",
   "version": "3.9.12"
  },
  "orig_nbformat": 4,
  "vscode": {
   "interpreter": {
    "hash": "ecf3b388c25b93fb0eb005c8556008acb42687c63b632c54b3a58e90b024133b"
   }
  }
 },
 "nbformat": 4,
 "nbformat_minor": 2
}

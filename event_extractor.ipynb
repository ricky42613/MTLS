{
 "cells": [
  {
   "cell_type": "code",
   "execution_count": 1,
   "metadata": {},
   "outputs": [],
   "source": [
    "import os\n",
    "os.environ[\"CUDA_DEVICE_ORDER\"]=\"PCI_BUS_ID\"   # see issue #152\n",
    "os.environ[\"CUDA_VISIBLE_DEVICES\"]=\"1\"\n",
    "import pandas as pd\n",
    "data = pd.read_csv('林智堅抄襲.csv')"
   ]
  },
  {
   "cell_type": "code",
   "execution_count": 2,
   "metadata": {},
   "outputs": [],
   "source": [
    "data_start = min(data['timestamp'])\n",
    "data_end = max(data['timestamp'])"
   ]
  },
  {
   "cell_type": "code",
   "execution_count": 3,
   "metadata": {},
   "outputs": [
    {
     "name": "stdout",
     "output_type": "stream",
     "text": [
      "2022-07-05 09:35:00 ~ 2022-08-21 18:50:57\n",
      "news count: 541\n"
     ]
    }
   ],
   "source": [
    "from datetime import datetime\n",
    "data_start_str = datetime.fromtimestamp(int(float(data_start)/1000))\n",
    "data_end_str = datetime.fromtimestamp(int(float(data_end)/1000))\n",
    "print('{} ~ {}'.format(data_start_str, data_end_str))\n",
    "print('news count: {}'.format(len(data)))"
   ]
  },
  {
   "cell_type": "code",
   "execution_count": 4,
   "metadata": {},
   "outputs": [],
   "source": [
    "from datetime import datetime\n",
    "timestamps = []\n",
    "for item in data['timestamp'].to_list():\n",
    "    t = datetime.fromtimestamp(int(item/1000))\n",
    "    date_time = t.strftime(\"%Y%m%d000000\")\n",
    "    timestamps.append(date_time)\n",
    "data['timestamp'] = timestamps"
   ]
  },
  {
   "cell_type": "code",
   "execution_count": 5,
   "metadata": {},
   "outputs": [
    {
     "name": "stderr",
     "output_type": "stream",
     "text": [
      "/home/ricky42613/miniconda3/lib/python3.9/site-packages/tqdm/auto.py:22: TqdmWarning: IProgress not found. Please update jupyter and ipywidgets. See https://ipywidgets.readthedocs.io/en/stable/user_install.html\n",
      "  from .autonotebook import tqdm as notebook_tqdm\n"
     ]
    }
   ],
   "source": [
    "from sentence_transformers import SentenceTransformer"
   ]
  },
  {
   "cell_type": "code",
   "execution_count": 6,
   "metadata": {},
   "outputs": [
    {
     "name": "stderr",
     "output_type": "stream",
     "text": [
      "No sentence-transformers model found with name /home/ricky42613/.cache/torch/sentence_transformers/ckiplab_albert-base-chinese. Creating a new one with MEAN pooling.\n",
      "Some weights of the model checkpoint at /home/ricky42613/.cache/torch/sentence_transformers/ckiplab_albert-base-chinese were not used when initializing AlbertModel: ['predictions.dense.bias', 'predictions.decoder.bias', 'predictions.LayerNorm.bias', 'predictions.LayerNorm.weight', 'predictions.dense.weight', 'predictions.decoder.weight', 'predictions.bias']\n",
      "- This IS expected if you are initializing AlbertModel from the checkpoint of a model trained on another task or with another architecture (e.g. initializing a BertForSequenceClassification model from a BertForPreTraining model).\n",
      "- This IS NOT expected if you are initializing AlbertModel from the checkpoint of a model that you expect to be exactly identical (initializing a BertForSequenceClassification model from a BertForSequenceClassification model).\n",
      "Some weights of AlbertModel were not initialized from the model checkpoint at /home/ricky42613/.cache/torch/sentence_transformers/ckiplab_albert-base-chinese and are newly initialized: ['albert.pooler.bias', 'albert.pooler.weight']\n",
      "You should probably TRAIN this model on a down-stream task to be able to use it for predictions and inference.\n"
     ]
    }
   ],
   "source": [
    "model = SentenceTransformer('ckiplab/albert-base-chinese')"
   ]
  },
  {
   "cell_type": "code",
   "execution_count": 7,
   "metadata": {},
   "outputs": [],
   "source": [
    "from bertopic import BERTopic"
   ]
  },
  {
   "cell_type": "code",
   "execution_count": 8,
   "metadata": {},
   "outputs": [],
   "source": [
    "from tokenizer import ChineseTokenizer\n",
    "tokenizer = ChineseTokenizer()"
   ]
  },
  {
   "cell_type": "code",
   "execution_count": 9,
   "metadata": {},
   "outputs": [
    {
     "name": "stderr",
     "output_type": "stream",
     "text": [
      " 67%|██████▋   | 360/541 [00:52<00:18, 10.01it/s]"
     ]
    }
   ],
   "source": [
    "from tqdm import tqdm\n",
    "toks = []\n",
    "sents = data['sentence'].tolist()\n",
    "for i in tqdm(range(len(sents))):\n",
    "    s = sents[i]\n",
    "    tok_list = list(tokenizer.tokenize(s, rm_noisy = False)[0])\n",
    "    sent = ' '.join(tok_list)\n",
    "    toks.append(sent)\n",
    "    # print(i)\n",
    "# sents_tok = tokenizer.tokenize(sents)\n",
    "# for sent in sents_tok:\n",
    "#     sent = ' '.join(sent)\n",
    "#     toks.append(sent)\n",
    "#     embed.append(model.encode(sent, show_progress_bar=False))\n",
    "data['token_sent'] = toks\n",
    "data.to_csv('林智堅抄襲_token.csv')\n",
    "# data['embed'] = embed"
   ]
  },
  {
   "cell_type": "code",
   "execution_count": null,
   "metadata": {},
   "outputs": [
    {
     "name": "stderr",
     "output_type": "stream",
     "text": [
      "Batches: 100%|██████████| 17/17 [00:00<00:00, 31.52it/s]\n"
     ]
    }
   ],
   "source": [
    "from umap.umap_ import UMAP\n",
    "embed = model.encode(toks, show_progress_bar=True).tolist()\n",
    "umap_model = UMAP(n_neighbors=10, n_components=400, metric='cosine', min_dist=0.0, random_state=42)\n",
    "# for i in tqdm(range(len(toks))):\n",
    "#     sent = toks[i]\n",
    "#     embed.append(model.encode(sent, show_progress_bar=False))"
   ]
  },
  {
   "cell_type": "code",
   "execution_count": null,
   "metadata": {},
   "outputs": [],
   "source": [
    "import hdbscan\n",
    "hdbscan_parameter = {\n",
    "    'min_cluster_size': 15,\n",
    "    'min_samples': 1,\n",
    "    'cluster_selection_method': 'leaf'\n",
    "}\n",
    "cluster_model = hdbscan.HDBSCAN(\n",
    "    min_cluster_size=hdbscan_parameter['min_cluster_size'],\n",
    "    min_samples=hdbscan_parameter['min_samples'], \n",
    "    cluster_selection_method=hdbscan_parameter['cluster_selection_method'], \n",
    "    )\n",
    "topic_model = BERTopic(embedding_model=model, \n",
    "                        umap_model=umap_model, \n",
    "                        hdbscan_model=cluster_model,\n",
    "                        )"
   ]
  },
  {
   "cell_type": "code",
   "execution_count": null,
   "metadata": {},
   "outputs": [
    {
     "name": "stdout",
     "output_type": "stream",
     "text": [
      "401\n",
      "541\n"
     ]
    }
   ],
   "source": [
    "import numpy as np\n",
    "topics, probs = topic_model.fit_transform(data['token_sent'], np.array(embed))"
   ]
  },
  {
   "cell_type": "code",
   "execution_count": null,
   "metadata": {},
   "outputs": [],
   "source": [
    "keyword = []\n",
    "for i in topics:\n",
    "    keyword_list = [w[0] for w in topic_model.get_topic(i)[:3]]\n",
    "    keyword.append(' '.join(keyword_list))"
   ]
  },
  {
   "cell_type": "code",
   "execution_count": null,
   "metadata": {},
   "outputs": [],
   "source": [
    "data['topics'] = topics\n",
    "# data['score'] = probs\n",
    "data['keyword'] = keyword\n",
    "data = data[data['topics'] != -1]\n",
    "# data = data[data['score'] > 0.8]"
   ]
  },
  {
   "cell_type": "code",
   "execution_count": null,
   "metadata": {},
   "outputs": [],
   "source": [
    "data.to_csv('林智堅抄襲_cluster.csv')"
   ]
  },
  {
   "cell_type": "code",
   "execution_count": null,
   "metadata": {},
   "outputs": [],
   "source": [
    "fig = topic_model.visualize_hierarchy()"
   ]
  },
  {
   "cell_type": "code",
   "execution_count": null,
   "metadata": {},
   "outputs": [],
   "source": [
    "fig.write_html(\"templates/hie.html\")"
   ]
  },
  {
   "cell_type": "code",
   "execution_count": null,
   "metadata": {},
   "outputs": [],
   "source": [
    "topics_over_time = topic_model.topics_over_time(data['token_sent'], data['topics'], data['timestamp'].to_list())"
   ]
  },
  {
   "cell_type": "code",
   "execution_count": null,
   "metadata": {},
   "outputs": [],
   "source": [
    "fig = topic_model.visualize_topics_over_time(topics_over_time)\n",
    "fig.write_html(\"templates/timeline.html\")"
   ]
  },
  {
   "cell_type": "markdown",
   "metadata": {},
   "source": [
    "# TimeLine Distance"
   ]
  },
  {
   "cell_type": "code",
   "execution_count": null,
   "metadata": {},
   "outputs": [],
   "source": [
    "data = data.sort_values(by=['timestamp'])"
   ]
  },
  {
   "cell_type": "code",
   "execution_count": null,
   "metadata": {},
   "outputs": [],
   "source": [
    "from sklearn.metrics.pairwise import cosine_similarity\n",
    "embed = model.encode(toks, show_progress_bar=True).tolist()\n",
    "distance = []\n",
    "for i in tqdm(range(1, len(embed))):\n",
    "    answerLikeliness = cosine_similarity([embed[i]], [embed[i-1]])\n",
    "    score = answerLikeliness[0][0]\n",
    "    distance.append(score)\n",
    "    "
   ]
  },
  {
   "cell_type": "code",
   "execution_count": null,
   "metadata": {},
   "outputs": [],
   "source": [
    "import matplotlib.pyplot as plt\n",
    "\n",
    "plt.plot(range(len(distance)), distance)"
   ]
  },
  {
   "cell_type": "code",
   "execution_count": null,
   "metadata": {},
   "outputs": [],
   "source": []
  }
 ],
 "metadata": {
  "kernelspec": {
   "display_name": "Python 3.9.12 ('base')",
   "language": "python",
   "name": "python3"
  },
  "language_info": {
   "codemirror_mode": {
    "name": "ipython",
    "version": 3
   },
   "file_extension": ".py",
   "mimetype": "text/x-python",
   "name": "python",
   "nbconvert_exporter": "python",
   "pygments_lexer": "ipython3",
   "version": "3.9.12"
  },
  "orig_nbformat": 4,
  "vscode": {
   "interpreter": {
    "hash": "ecf3b388c25b93fb0eb005c8556008acb42687c63b632c54b3a58e90b024133b"
   }
  }
 },
 "nbformat": 4,
 "nbformat_minor": 2
}
